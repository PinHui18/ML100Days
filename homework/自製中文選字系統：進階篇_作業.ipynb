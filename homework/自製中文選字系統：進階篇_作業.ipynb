{
 "cells": [
  {
   "cell_type": "markdown",
   "metadata": {},
   "source": [
    "# 自製智能中文選字系統  (2)"
   ]
  },
  {
   "cell_type": "code",
   "execution_count": 1,
   "metadata": {},
   "outputs": [
    {
     "data": {
      "text/plain": [
       "'3.8.3 (default, Jul  2 2020, 17:30:36) [MSC v.1916 64 bit (AMD64)]'"
      ]
     },
     "execution_count": 1,
     "metadata": {},
     "output_type": "execute_result"
    }
   ],
   "source": [
    "import sys\n",
    "sys.version"
   ]
  },
  {
   "cell_type": "markdown",
   "metadata": {},
   "source": [
    "確認版本為 python3"
   ]
  },
  {
   "cell_type": "markdown",
   "metadata": {},
   "source": [
    "## 資料前處理"
   ]
  },
  {
   "cell_type": "code",
   "execution_count": 2,
   "metadata": {},
   "outputs": [],
   "source": [
    "import re"
   ]
  },
  {
   "cell_type": "code",
   "execution_count": 3,
   "metadata": {},
   "outputs": [],
   "source": [
    "def prepocess_line(line):\n",
    "    chinese_pattern = r'[\\u4E00-\\u9FFF]+'\n",
    "    segments = re.findall(chinese_pattern, line, flags=re.UNICODE)\n",
    "    return segments"
   ]
  },
  {
   "cell_type": "code",
   "execution_count": 4,
   "metadata": {
    "tags": []
   },
   "outputs": [],
   "source": [
    "with open('wiki_zh_small.txt', encoding='utf-8') as f:\n",
    "    segments = sum([prepocess_line(line) for line in f.readlines()], [])"
   ]
  },
  {
   "cell_type": "markdown",
   "metadata": {},
   "source": [
    "## 斷詞"
   ]
  },
  {
   "cell_type": "code",
   "execution_count": 5,
   "metadata": {
    "tags": []
   },
   "outputs": [
    {
     "name": "stdout",
     "output_type": "stream",
     "text": [
      "Requirement already satisfied: jieba in c:\\users\\user\\anaconda3\\lib\\site-packages (0.42.1)\n"
     ]
    }
   ],
   "source": [
    "!pip install jieba"
   ]
  },
  {
   "cell_type": "code",
   "execution_count": 6,
   "metadata": {},
   "outputs": [],
   "source": [
    "import jieba"
   ]
  },
  {
   "cell_type": "code",
   "execution_count": 7,
   "metadata": {
    "tags": []
   },
   "outputs": [
    {
     "name": "stderr",
     "output_type": "stream",
     "text": [
      "Building prefix dict from the default dictionary ...\n",
      "Dumping model to file cache C:\\Users\\user\\AppData\\Local\\Temp\\jieba.cache\n",
      "Loading model cost 0.725 seconds.\n",
      "Prefix dict has been built successfully.\n"
     ]
    },
    {
     "data": {
      "text/plain": [
       "['所以', '僅用', '於', '還原', '一些', '貴重', '的', '化合', '化合物']"
      ]
     },
     "execution_count": 7,
     "metadata": {},
     "output_type": "execute_result"
    }
   ],
   "source": [
    "list(jieba.cut_for_search(segments[6001]))"
   ]
  },
  {
   "cell_type": "code",
   "execution_count": 10,
   "metadata": {
    "tags": []
   },
   "outputs": [],
   "source": [
    "cut_segments = []\n",
    "for seg in segments:\n",
    "    # 使用結巴斷詞的 cut_for_search\n",
    "    cut_segments += list(jieba.cut_for_search(seg))"
   ]
  },
  {
   "cell_type": "markdown",
   "metadata": {},
   "source": [
    "## 使用斷詞的結果來作Ngram"
   ]
  },
  {
   "cell_type": "code",
   "execution_count": 11,
   "metadata": {},
   "outputs": [],
   "source": [
    "from collections import Counter\n",
    "\n",
    "class Counters:\n",
    "    def __init__(self, n):\n",
    "        self.n = n\n",
    "        self.counters = [Counter() for _ in range(n + 1)]\n",
    "\n",
    "    def fit(self, segments):\n",
    "        for i in range(self.n):\n",
    "            for segment in segments:\n",
    "                self.counters[i + 1].update(self._skip(segment, i + 1))\n",
    "        self.counters[0] = Counter({'': sum([len(segment) for segment in segments])})\n",
    "\n",
    "    def __getitem__(self, k):\n",
    "        return self.counters[k]\n",
    "\n",
    "    def _skip(self, segment, n):\n",
    "        assert n > 0\n",
    "        if len(segment) < n:\n",
    "            return []\n",
    "        shift = n - 1\n",
    "        for i in range(len(segment) - shift):\n",
    "            yield segment[i:i + shift + 1]"
   ]
  },
  {
   "cell_type": "code",
   "execution_count": 12,
   "metadata": {},
   "outputs": [],
   "source": [
    "counters = Counters(n=5)\n",
    "counters.fit(cut_segments)"
   ]
  },
  {
   "cell_type": "code",
   "execution_count": 13,
   "metadata": {},
   "outputs": [],
   "source": [
    "class Ngram:\n",
    "    def __init__(self, n, counters):\n",
    "        assert n <= counters.n\n",
    "        self.n = n\n",
    "        self.major_counter = counters[n]\n",
    "        self.minor_counter = counters[n-1]\n",
    "\n",
    "    def predict_proba(self, prefix='', top_k=5):\n",
    "        assert len(prefix) >= self.n - 1\n",
    "\n",
    "        reference = prefix[-(self.n - 1):] if self.n > 1 else ''\n",
    "        count_referecne = self.minor_counter[reference]\n",
    "        probs = []\n",
    "        for key, count in dict(self.major_counter).items():\n",
    "            if key.startswith(reference):\n",
    "                prob = count / count_referecne\n",
    "                probs.append((prob, key[-1]))\n",
    "        sorted_probs = sorted(probs, reverse=True)\n",
    "        return sorted_probs[:top_k] if top_k > 0 else sorted_probs\n",
    "\n",
    "    def get_proba_dict(self, prefix=''):\n",
    "        return {word: prob for prob, word in self.predict_proba(prefix, top_k=-1)}"
   ]
  },
  {
   "cell_type": "code",
   "execution_count": 14,
   "metadata": {},
   "outputs": [],
   "source": [
    "ngrams = [Ngram(i, counters) for i in range(1, 6)]"
   ]
  },
  {
   "cell_type": "markdown",
   "metadata": {},
   "source": [
    "## 使用Smoothing of Language Models來建立第二版選字系統"
   ]
  },
  {
   "cell_type": "code",
   "execution_count": 17,
   "metadata": {},
   "outputs": [],
   "source": [
    "class ChineseWordRecommenderV2:\n",
    "    def __init__(self, ngrams):\n",
    "        self.ngrams = ngrams\n",
    "    \n",
    "    def predict_proba(self, prefix='', top_k=5):\n",
    "        interpolation_lambda = 0.99\n",
    "        proba_dicts = [ngram.get_proba_dict(prefix) for ngram in ngrams[:len(prefix)+1]]\n",
    "\n",
    "        probas = []\n",
    "        # 在此你可以選擇兩種 Smoothing of Language Models 的方法：\n",
    "        # Back-off Smoothing 或 Interpolation Smoothing\n",
    "        # 如果你選擇 Interpolation Smoothing，你可以運用已經準備好的輔助函式\n",
    "        # _get_interpolation_proba 來達到此目的\n",
    "        words = proba_dicts[0].keys()\n",
    "        for word in words:\n",
    "            proba = self._get_interpolation_proba(word, proba_dicts, interpolation_lambda)\n",
    "            probas.append((proba, word))\n",
    "        sorted_probas = sorted(probas, reverse=True)\n",
    "\n",
    "        return sorted_probas[:top_k] if top_k > 0 else sorted_probas\n",
    "    \n",
    "    def _get_interpolation_proba(self, word, proba_dicts, interp_lambda, idx=None):\n",
    "        if idx is None:\n",
    "            idx = len(proba_dicts) - 1\n",
    "        if idx == 0:\n",
    "            return proba_dicts[idx].get(word, 0.)\n",
    "        return interp_lambda * proba_dicts[idx].get(word, 0.) + \\\n",
    "               (1 - interp_lambda) * self._get_interpolation_proba(word, proba_dicts, interp_lambda, idx=idx-1)"
   ]
  },
  {
   "cell_type": "code",
   "execution_count": 19,
   "metadata": {},
   "outputs": [],
   "source": [
    "model = ChineseWordRecommenderV2(ngrams)"
   ]
  },
  {
   "cell_type": "code",
   "execution_count": 20,
   "metadata": {
    "tags": []
   },
   "outputs": [
    {
     "data": {
      "text/plain": [
       "[(0.051904146168121834, '國'),\n",
       " (0.04388616116650217, '律'),\n",
       " (0.029848241612163377, '院'),\n",
       " (0.020222220928179165, '語'),\n",
       " (0.011414997351123958, '蘭'),\n",
       " (0.010549762034510142, '系'),\n",
       " (0.00792383560501087, '定'),\n",
       " (0.007908712635409567, '制'),\n",
       " (0.007072068387587443, '學'),\n",
       " (0.007060356996987107, '西')]"
      ]
     },
     "execution_count": 20,
     "metadata": {},
     "output_type": "execute_result"
    }
   ],
   "source": [
    "probs = model.predict_proba('法', top_k=10)\n",
    "probs"
   ]
  },
  {
   "cell_type": "code",
   "execution_count": 21,
   "metadata": {},
   "outputs": [],
   "source": [
    "model = ChineseWordRecommenderV2(ngrams)"
   ]
  },
  {
   "cell_type": "markdown",
   "metadata": {},
   "source": [
    "## Demo"
   ]
  },
  {
   "cell_type": "code",
   "execution_count": 22,
   "metadata": {
    "tags": []
   },
   "outputs": [
    {
     "name": "stdout",
     "output_type": "stream",
     "text": [
      "Requirement already satisfied: pip in c:\\users\\user\\anaconda3\\lib\\site-packages (21.3.1)\n"
     ]
    }
   ],
   "source": [
    "!pip install -U pip\n",
    "!pip install -q ipywidgets"
   ]
  },
  {
   "cell_type": "code",
   "execution_count": 23,
   "metadata": {},
   "outputs": [
    {
     "data": {
      "application/vnd.jupyter.widget-view+json": {
       "model_id": "d6f2438983fe42a386d17e0d883183b2",
       "version_major": 2,
       "version_minor": 0
      },
      "text/plain": [
       "Label(value='')"
      ]
     },
     "metadata": {},
     "output_type": "display_data"
    },
    {
     "data": {
      "application/vnd.jupyter.widget-view+json": {
       "model_id": "b286f97040954c8f9e8868b15c46984b",
       "version_major": 2,
       "version_minor": 0
      },
      "text/plain": [
       "Textarea(value='')"
      ]
     },
     "metadata": {},
     "output_type": "display_data"
    }
   ],
   "source": [
    "import ipywidgets as widgets\n",
    "\n",
    "text = widgets.Textarea()\n",
    "label = widgets.Label()\n",
    "display(label, text)\n",
    "\n",
    "def func(change):\n",
    "    probs = model.predict_proba(change.new, top_k=10)\n",
    "    label.value = ' ' + '\\t'.join([word for prob, word in probs])\n",
    "\n",
    "text.observe(func, names='value')"
   ]
  },
  {
   "cell_type": "code",
   "execution_count": null,
   "metadata": {},
   "outputs": [],
   "source": []
  }
 ],
 "metadata": {
  "kernelspec": {
   "display_name": "Python 3",
   "language": "python",
   "name": "python3"
  },
  "language_info": {
   "codemirror_mode": {
    "name": "ipython",
    "version": 3
   },
   "file_extension": ".py",
   "mimetype": "text/x-python",
   "name": "python",
   "nbconvert_exporter": "python",
   "pygments_lexer": "ipython3",
   "version": "3.8.3"
  }
 },
 "nbformat": 4,
 "nbformat_minor": 2
}
