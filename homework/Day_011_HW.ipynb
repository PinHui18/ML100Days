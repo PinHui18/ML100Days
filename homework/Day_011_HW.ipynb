{
 "cells": [
  {
   "cell_type": "markdown",
   "metadata": {},
   "source": [
    "## 作業目標：運用課程所學，操作字串達到預期輸出"
   ]
  },
  {
   "cell_type": "markdown",
   "metadata": {},
   "source": [
    "* 自行尋找一篇超過100字的文章\n",
    "    * 首先運用結巴斷詞，自行新增字典使得斷詞更為正確\n",
    "    * 使用jieba 完成 PoS Taggin\n",
    "    * 新增的詞也必須賦予詞性"
   ]
  },
  {
   "cell_type": "markdown",
   "metadata": {},
   "source": [
    "---"
   ]
  },
  {
   "cell_type": "code",
   "execution_count": 1,
   "metadata": {},
   "outputs": [],
   "source": [
    "import jieba\n",
    "import jieba.posseg as pseg\n",
    "jieba.set_dictionary('dict.txt')"
   ]
  },
  {
   "cell_type": "markdown",
   "metadata": {},
   "source": [
    "---"
   ]
  },
  {
   "cell_type": "code",
   "execution_count": 2,
   "metadata": {},
   "outputs": [],
   "source": [
    "sentence = '''這是敘述近年來，AI 應用已無所不在，不論在新創或是傳產領域，都可能透過機器學習解決過去難以解決的問題。但目前台灣企業在 AI 導入的腳步仍然緩慢，除了人才嚴重短缺，教育資源無法即時跟上產業變異也是原因之一。因此，我們發起了「 機器學習 百日馬拉松 」教練陪跑計劃，翻轉傳統上課模式，以自主練習為主，幫助你獲得最大學習成效，搶先一步進入 AI 人工智能領域。'''"
   ]
  },
  {
   "cell_type": "code",
   "execution_count": 5,
   "metadata": {},
   "outputs": [],
   "source": [
    "sentence1 = '''去年十一月中旬，陳時中公開表示「口袋已有疫苗」，堅信我國能在今年第二季開打；去年十二月卅日透露，台灣採購疫苗面臨政治打壓，「今天高高興興公布，明天廠商可能被打壓被迫減量。」明示、暗示與中國大陸有關；上個月廿九日，再被問及我疫苗採購窘境，陳時中改口痛批大國超買，世界衛生組織不夠力。針對指揮中心不斷調整說法，中國附醫感染科主治醫師王任賢表示，陳時中過去確實會用意識形態暗示國際採購狀況，但是讓疫苗採購破局的關鍵不是國際政治意識形態，反而是「內部政治力介入」。'''"
   ]
  },
  {
   "cell_type": "code",
   "execution_count": 3,
   "metadata": {
    "scrolled": true
   },
   "outputs": [
    {
     "data": {
      "text/plain": [
       "'這是敘述近年來，AI 應用已無所不在，不論在新創或是傳產領域，都可能透過機器學習解決過去難以解決的問題。但目前台灣企業在 AI 導入的腳步仍然緩慢，除了人才嚴重短缺，教育資源無法即時跟上產業變異也是原因之一。因此，我們發起了「 機器學習 百日馬拉松 」教練陪跑計劃，翻轉傳統上課模式，以自主練習為主，幫助你獲得最大學習成效，搶先一步進入 AI 人工智能領域。'"
      ]
     },
     "execution_count": 3,
     "metadata": {},
     "output_type": "execute_result"
    }
   ],
   "source": [
    "sentence "
   ]
  },
  {
   "cell_type": "code",
   "execution_count": 6,
   "metadata": {},
   "outputs": [
    {
     "data": {
      "text/plain": [
       "'去年十一月中旬，陳時中公開表示「口袋已有疫苗」，堅信我國能在今年第二季開打；去年十二月卅日透露，台灣採購疫苗面臨政治打壓，「今天高高興興公布，明天廠商可能被打壓被迫減量。」明示、暗示與中國大陸有關；上個月廿九日，再被問及我疫苗採購窘境，陳時中改口痛批大國超買，世界衛生組織不夠力。針對指揮中心不斷調整說法，中國附醫感染科主治醫師王任賢表示，陳時中過去確實會用意識形態暗示國際採購狀況，但是讓疫苗採購破局的關鍵不是國際政治意識形態，反而是「內部政治力介入」。'"
      ]
     },
     "execution_count": 6,
     "metadata": {},
     "output_type": "execute_result"
    }
   ],
   "source": [
    "sentence1"
   ]
  },
  {
   "cell_type": "code",
   "execution_count": 8,
   "metadata": {
    "scrolled": true
   },
   "outputs": [
    {
     "name": "stdout",
     "output_type": "stream",
     "text": [
      "output 精確模式: 這是|敘述|近年|來|，|AI| |應用|已|無所不在|，|不論|在|新創|或是|傳產|領域|，|都|可能|透過|機器|學習|解決|過去|難以|解決|的|問題|。|但|目前|台灣|企業|在| |AI| |導入|的|腳步|仍然|緩慢|，|除了|人才|嚴重|短缺|，|教育|資源|無法|即時|跟上|產業|變異|也|是|原因|之|一|。|因此|，|我們|發起|了|「| |機器|學習| |百日|馬拉松| |」|教練|陪跑|計劃|，|翻轉|傳統|上課|模式|，|以|自主|練習|為主|，|幫助|你|獲得|最|大|學習|成效|，|搶先|一步|進入| |AI| |人工|智能|領域|。\n"
     ]
    }
   ],
   "source": [
    "print('output 精確模式: {}'. format('|'.join(jieba.cut(sentence, cut_all=False))))"
   ]
  },
  {
   "cell_type": "code",
   "execution_count": 9,
   "metadata": {},
   "outputs": [
    {
     "name": "stdout",
     "output_type": "stream",
     "text": [
      "output 精確模式: 去年|十一月|中旬|，|陳|時|中|公開|表示|「|口袋|已|有|疫苗|」|，|堅信|我國|能|在|今年|第二季|開打|；|去年|十二月|卅日|透露|，|台灣|採購|疫苗|面臨|政治|打壓|，|「|今天|高高興興|公布|，|明天|廠商|可能|被|打壓|被迫|減量|。|」|明示|、|暗示|與|中國|大陸|有關|；|上個|月|廿九日|，|再|被|問及|我|疫苗|採購|窘境|，|陳|時|中|改口|痛批|大國|超買|，|世界|衛生|組織|不|夠力|。|針對|指揮|中心|不斷|調整|說法|，|中國|附醫|感染科|主治|醫師|王任賢|表示|，|陳|時|中|過去|確實|會用|意識|形態|暗示|國際|採購|狀況|，|但是|讓|疫苗|採購|破局|的|關鍵|不|是|國際|政治|意識|形態|，|反而|是|「|內部|政治力|介入|」|。\n"
     ]
    }
   ],
   "source": [
    "print('output 精確模式: {}'. format('|'.join(jieba.cut(sentence1, cut_all=False))))"
   ]
  },
  {
   "cell_type": "markdown",
   "metadata": {},
   "source": [
    "## 新增字典"
   ]
  },
  {
   "cell_type": "code",
   "execution_count": 11,
   "metadata": {},
   "outputs": [
    {
     "name": "stdout",
     "output_type": "stream",
     "text": [
      "output 精確模式: 這是|敘述|近年|來|，|AI| |應用|已|無所不在|，|不論|在|新創|或是|傳產|領域|，|都|可能|透過|機器學習|解決|過去|難以|解決|的|問題|。|但|目前|台灣|企業|在| |AI| |導入|的|腳步|仍然|緩慢|，|除了|人才|嚴重|短缺|，|教育|資源|無法|即時|跟上|產業|變異|也|是|原因|之|一|。|因此|，|我們|發起|了|「| |機器學習| |百日馬拉松| |」|教練陪跑計劃|，|翻轉|傳統|上課|模式|，|以|自主|練習|為主|，|幫助|你|獲得|最|大|學習|成效|，|搶先|一步|進入| |AI| |人工智能|領域|。\n"
     ]
    }
   ],
   "source": [
    "new_words_prac = '機器學習\\n百日馬拉松\\n教練陪跑計劃\\n人工智能 '\n",
    "with open('new_words_prac.txt', 'w', encoding='UTF-8') as file:\n",
    "    file.write(new_words_prac)\n",
    "jieba.load_userdict(\"new_words_prac.txt\")\n",
    "print(\"output 精確模式: {}\".format('|'.join(jieba.cut(sentence, cut_all=False, HMM=False))))"
   ]
  },
  {
   "cell_type": "code",
   "execution_count": 12,
   "metadata": {},
   "outputs": [
    {
     "name": "stdout",
     "output_type": "stream",
     "text": [
      "output 精確模式: 去年|十一月|中旬|，|陳時中|公開|表示|「|口袋|已|有|疫苗|」|，|堅信|我國|能|在|今年|第二季|開打|；|去年|十二月|卅日|透露|，|台灣|採購|疫苗|面臨|政治|打壓|，|「|今天|高高興興|公布|，|明天|廠商|可能|被|打壓|被迫|減量|。|」|明示|、|暗示|與|中國大陸|有關|；|上|個|月|廿九日|，|再|被|問及|我|疫苗|採購|窘境|，|陳時中|改口|痛批|大國|超|買|，|世界衛生組織|不|夠力|。|針對|指揮中心|不斷|調整|說法|，|中國|附醫|感染科|主治|醫師|王任賢|表示|，|陳時中|過去|確實|會|用|意識|形態|暗示|國際|採購|狀況|，|但是|讓|疫苗|採購|破局|的|關鍵|不|是|國際|政治|意識|形態|，|反而|是|「|內部|政治力|介入|」|。\n"
     ]
    }
   ],
   "source": [
    "new_words_prac1 = '陳時中\\n中國大陸\\n世界衛生組織\\n指揮中心'\n",
    "with open('new_words_prac1.txt', 'w', encoding='UTF-8') as file:\n",
    "    file.write(new_words_prac1)\n",
    "jieba.load_userdict(\"new_words_prac1.txt\")\n",
    "print(\"output 精確模式: {}\".format('|'.join(jieba.cut(sentence1, cut_all=False, HMM=False))))"
   ]
  },
  {
   "cell_type": "markdown",
   "metadata": {},
   "source": [
    "## Taggin"
   ]
  },
  {
   "cell_type": "code",
   "execution_count": 13,
   "metadata": {},
   "outputs": [
    {
     "name": "stdout",
     "output_type": "stream",
     "text": [
      "這是 x\n",
      "敘述 x\n",
      "近年 t\n",
      "來 zg\n",
      "， x\n",
      "AI eng\n",
      "  x\n",
      "應用 x\n",
      "已 d\n",
      "無所不在 x\n",
      "， x\n",
      "不論 x\n",
      "在 p\n",
      "新創 x\n",
      "或是 c\n",
      "傳產 x\n",
      "領域 x\n",
      "， x\n",
      "都 d\n",
      "可能 v\n",
      "透過 x\n",
      "機器學習 x\n",
      "解決 x\n",
      "過去 x\n",
      "難以 x\n",
      "解決 x\n",
      "的 uj\n",
      "問題 x\n",
      "。 x\n",
      "但 c\n",
      "目前 t\n",
      "台灣 x\n",
      "企業 x\n",
      "在 p\n",
      "  x\n",
      "AI eng\n",
      "  x\n",
      "導入 x\n",
      "的 uj\n",
      "腳步 x\n",
      "仍然 d\n",
      "緩慢 x\n",
      "， x\n",
      "除了 p\n",
      "人才 n\n",
      "嚴重 x\n",
      "短缺 a\n",
      "， x\n",
      "教育 vn\n",
      "資源 x\n",
      "無法 x\n",
      "即時 x\n",
      "跟上 f\n",
      "產業 x\n",
      "變異 x\n",
      "也 d\n",
      "是 v\n",
      "原因 n\n",
      "之一 r\n",
      "。 x\n",
      "因此 c\n",
      "， x\n",
      "我們 x\n",
      "發起 x\n",
      "了 ul\n",
      "「 x\n",
      "  x\n",
      "機器學習 x\n",
      "  x\n",
      "百日馬拉松 x\n",
      "  x\n",
      "」 x\n",
      "教練陪跑計劃 x\n",
      "， x\n",
      "翻轉 x\n",
      "傳統 x\n",
      "上課 x\n",
      "模式 n\n",
      "， x\n",
      "以 p\n",
      "自主 v\n",
      "練習 x\n",
      "為主 x\n",
      "， x\n",
      "幫助 x\n",
      "你 r\n",
      "獲得 x\n",
      "最 d\n",
      "大 a\n",
      "學習 x\n",
      "成效 a\n",
      "， x\n",
      "搶先 x\n",
      "一步 m\n",
      "進入 x\n",
      "  x\n",
      "AI eng\n",
      "  x\n",
      "人工智能 n\n",
      "領域 x\n",
      "。 x\n"
     ]
    }
   ],
   "source": [
    "words = pseg.cut(sentence,)\n",
    "for word, flag in words:\n",
    "    print(word, flag)"
   ]
  },
  {
   "cell_type": "code",
   "execution_count": 14,
   "metadata": {},
   "outputs": [
    {
     "name": "stdout",
     "output_type": "stream",
     "text": [
      "去年 t\n",
      "十一月 m\n",
      "中旬 t\n",
      "， x\n",
      "陳時中 x\n",
      "公開 x\n",
      "表示 v\n",
      "「 x\n",
      "口袋 n\n",
      "已 d\n",
      "有 v\n",
      "疫苗 n\n",
      "」 x\n",
      "， x\n",
      "堅信 x\n",
      "我國 x\n",
      "能 v\n",
      "在 p\n",
      "今年 t\n",
      "第二季 m\n",
      "開打 x\n",
      "； x\n",
      "去年 t\n",
      "十二月 m\n",
      "卅日 m\n",
      "透露 v\n",
      "， x\n",
      "台灣 x\n",
      "採購 x\n",
      "疫苗 n\n",
      "面臨 x\n",
      "政治 n\n",
      "打壓 x\n",
      "， x\n",
      "「 x\n",
      "今天 t\n",
      "高高興興 x\n",
      "公布 v\n",
      "， x\n",
      "明天 t\n",
      "廠商 x\n",
      "可能 v\n",
      "被 p\n",
      "打壓 x\n",
      "被迫 d\n",
      "減量 x\n",
      "。 x\n",
      "」 x\n",
      "明示 v\n",
      "、 x\n",
      "暗示 v\n",
      "與 zg\n",
      "中國大陸 x\n",
      "有關 x\n",
      "； x\n",
      "上個月 t\n",
      "廿九日 m\n",
      "， x\n",
      "再 d\n",
      "被 p\n",
      "問及 x\n",
      "我 r\n",
      "疫苗 n\n",
      "採購 x\n",
      "窘境 n\n",
      "， x\n",
      "陳時中 x\n",
      "改口 vn\n",
      "痛批 x\n",
      "大國 x\n",
      "超買 v\n",
      "， x\n",
      "世界衛生組織 x\n",
      "不 d\n",
      "夠力 x\n",
      "。 x\n",
      "針對 x\n",
      "指揮中心 x\n",
      "不斷 x\n",
      "調整 x\n",
      "說法 x\n",
      "， x\n",
      "中國 x\n",
      "附醫 x\n",
      "感染科 x\n",
      "主治 n\n",
      "醫師 x\n",
      "王任賢 x\n",
      "表示 v\n",
      "， x\n",
      "陳時中 x\n",
      "過去 x\n",
      "確實 x\n",
      "會用 n\n",
      "意識 x\n",
      "形態 x\n",
      "暗示 v\n",
      "國際 x\n",
      "採購 x\n",
      "狀況 x\n",
      "， x\n",
      "但是 c\n",
      "讓 x\n",
      "疫苗 n\n",
      "採購 x\n",
      "破局 x\n",
      "的 uj\n",
      "關鍵 x\n",
      "不 d\n",
      "是 v\n",
      "國際 x\n",
      "政治 n\n",
      "意識 x\n",
      "形態 x\n",
      "， x\n",
      "反而 c\n",
      "是 v\n",
      "「 x\n",
      "內部 x\n",
      "政治力 x\n",
      "介入 v\n",
      "」 x\n",
      "。 x\n"
     ]
    }
   ],
   "source": [
    "words = pseg.cut(sentence1,)\n",
    "for word, flag in words:\n",
    "    print(word, flag)"
   ]
  }
 ],
 "metadata": {
  "kernelspec": {
   "display_name": "Python 3",
   "language": "python",
   "name": "python3"
  },
  "language_info": {
   "codemirror_mode": {
    "name": "ipython",
    "version": 3
   },
   "file_extension": ".py",
   "mimetype": "text/x-python",
   "name": "python",
   "nbconvert_exporter": "python",
   "pygments_lexer": "ipython3",
   "version": "3.8.3"
  }
 },
 "nbformat": 4,
 "nbformat_minor": 2
}
